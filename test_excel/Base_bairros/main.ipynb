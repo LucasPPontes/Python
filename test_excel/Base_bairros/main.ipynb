{
 "cells": [
  {
   "attachments": {},
   "cell_type": "markdown",
   "metadata": {},
   "source": [
    "# Automação base Excel\n",
    "# O script cria automaticamente uma aba para cada bairro \n",
    "## Pasta input > arquivo de entrada\n",
    "## Pasta output > arquivo de saída gerado pelo script\n"
   ]
  },
  {
   "cell_type": "code",
   "execution_count": 36,
   "metadata": {},
   "outputs": [
    {
     "name": "stdout",
     "output_type": "stream",
     "text": [
      "[{'Data de Nascimento': Timestamp('1980-01-27 00:00:00'), 'Pessoa': 'Alice Tassara', 'Bairro': 'Leblon'}, {'Data de Nascimento': Timestamp('1982-02-02 00:00:00'), 'Pessoa': 'Sara Abramovitz', 'Bairro': 'Leblon'}, {'Data de Nascimento': Timestamp('1983-01-30 00:00:00'), 'Pessoa': 'Isabelly Rocha', 'Bairro': 'Leblon'}, {'Data de Nascimento': Timestamp('1983-12-26 00:00:00'), 'Pessoa': 'Marcelle Paixão', 'Bairro': 'Leblon'}, {'Data de Nascimento': Timestamp('1984-06-16 00:00:00'), 'Pessoa': 'Paula César', 'Bairro': 'Leblon'}, {'Data de Nascimento': Timestamp('1985-03-17 00:00:00'), 'Pessoa': 'Evelyn Borba', 'Bairro': 'Leblon'}, {'Data de Nascimento': Timestamp('1985-07-08 00:00:00'), 'Pessoa': 'Cláudio Vieira', 'Bairro': 'Leblon'}, {'Data de Nascimento': Timestamp('1988-12-02 00:00:00'), 'Pessoa': 'Jonathas Carreira', 'Bairro': 'Leblon'}, {'Data de Nascimento': Timestamp('1992-11-19 00:00:00'), 'Pessoa': 'Stephanie Bello', 'Bairro': 'Leblon'}]\n",
      "  Data de Nascimento             Pessoa  Bairro\n",
      "0         1980-01-27      Alice Tassara  Leblon\n",
      "1         1982-02-02    Sara Abramovitz  Leblon\n",
      "2         1983-01-30     Isabelly Rocha  Leblon\n",
      "3         1983-12-26    Marcelle Paixão  Leblon\n",
      "4         1984-06-16        Paula César  Leblon\n",
      "5         1985-03-17       Evelyn Borba  Leblon\n",
      "6         1985-07-08     Cláudio Vieira  Leblon\n",
      "7         1988-12-02  Jonathas Carreira  Leblon\n",
      "8         1992-11-19    Stephanie Bello  Leblon\n",
      "   Data de Nascimento             Pessoa  Bairro\n",
      "0          1980-01-27      Alice Tassara  Leblon\n",
      "2          1982-02-02    Sara Abramovitz  Leblon\n",
      "4          1983-01-30     Isabelly Rocha  Leblon\n",
      "6          1983-12-26    Marcelle Paixão  Leblon\n",
      "7          1984-06-16        Paula César  Leblon\n",
      "8          1985-03-17       Evelyn Borba  Leblon\n",
      "9          1985-07-08     Cláudio Vieira  Leblon\n",
      "17         1988-12-02  Jonathas Carreira  Leblon\n",
      "20         1992-11-19    Stephanie Bello  Leblon\n",
      "[{'Data de Nascimento': Timestamp('1980-12-05 00:00:00'), 'Pessoa': 'Leila Gabriel', 'Bairro': 'Jardim Botânico'}, {'Data de Nascimento': Timestamp('1983-03-07 00:00:00'), 'Pessoa': 'Roberto Malavolti', 'Bairro': 'Jardim Botânico'}, {'Data de Nascimento': Timestamp('1986-09-14 00:00:00'), 'Pessoa': 'Helena Aya', 'Bairro': 'Jardim Botânico'}]\n",
      "  Data de Nascimento             Pessoa           Bairro\n",
      "0         1980-12-05      Leila Gabriel  Jardim Botânico\n",
      "1         1983-03-07  Roberto Malavolti  Jardim Botânico\n",
      "2         1986-09-14         Helena Aya  Jardim Botânico\n",
      "   Data de Nascimento             Pessoa           Bairro\n",
      "1          1980-12-05      Leila Gabriel  Jardim Botânico\n",
      "5          1983-03-07  Roberto Malavolti  Jardim Botânico\n",
      "11         1986-09-14         Helena Aya  Jardim Botânico\n",
      "[{'Data de Nascimento': Timestamp('1982-10-07 00:00:00'), 'Pessoa': 'Sylvio Gaspar', 'Bairro': 'Copacabana'}, {'Data de Nascimento': Timestamp('1987-01-16 00:00:00'), 'Pessoa': 'Rebecca Couto', 'Bairro': 'Copacabana'}, {'Data de Nascimento': Timestamp('1991-06-05 00:00:00'), 'Pessoa': 'Alexia Henrique', 'Bairro': 'Copacabana'}]\n",
      "  Data de Nascimento           Pessoa      Bairro\n",
      "0         1982-10-07    Sylvio Gaspar  Copacabana\n",
      "1         1987-01-16    Rebecca Couto  Copacabana\n",
      "2         1991-06-05  Alexia Henrique  Copacabana\n",
      "   Data de Nascimento           Pessoa      Bairro\n",
      "3          1982-10-07    Sylvio Gaspar  Copacabana\n",
      "13         1987-01-16    Rebecca Couto  Copacabana\n",
      "19         1991-06-05  Alexia Henrique  Copacabana\n",
      "[{'Data de Nascimento': Timestamp('1985-12-19 00:00:00'), 'Pessoa': 'Francyne Fonseca', 'Bairro': 'São Conrado'}, {'Data de Nascimento': Timestamp('1987-06-22 00:00:00'), 'Pessoa': 'Itai Limp', 'Bairro': 'São Conrado'}, {'Data de Nascimento': Timestamp('1988-03-03 00:00:00'), 'Pessoa': 'Nathalia Esquenazi', 'Bairro': 'São Conrado'}, {'Data de Nascimento': Timestamp('1989-04-01 00:00:00'), 'Pessoa': 'Teresa Moutinho', 'Bairro': 'São Conrado'}]\n",
      "  Data de Nascimento              Pessoa       Bairro\n",
      "0         1985-12-19    Francyne Fonseca  São Conrado\n",
      "1         1987-06-22           Itai Limp  São Conrado\n",
      "2         1988-03-03  Nathalia Esquenazi  São Conrado\n",
      "3         1989-04-01     Teresa Moutinho  São Conrado\n",
      "   Data de Nascimento              Pessoa       Bairro\n",
      "10         1985-12-19    Francyne Fonseca  São Conrado\n",
      "14         1987-06-22           Itai Limp  São Conrado\n",
      "15         1988-03-03  Nathalia Esquenazi  São Conrado\n",
      "18         1989-04-01     Teresa Moutinho  São Conrado\n",
      "[{'Data de Nascimento': Timestamp('1987-01-14 00:00:00'), 'Pessoa': 'Suellen Otavio', 'Bairro': 'Botafogo'}, {'Data de Nascimento': Timestamp('1988-03-06 00:00:00'), 'Pessoa': 'Luan Farah', 'Bairro': 'Botafogo'}, {'Data de Nascimento': Timestamp('1992-12-19 00:00:00'), 'Pessoa': 'Andrew Leão', 'Bairro': 'Botafogo'}]\n",
      "  Data de Nascimento          Pessoa    Bairro\n",
      "0         1987-01-14  Suellen Otavio  Botafogo\n",
      "1         1988-03-06      Luan Farah  Botafogo\n",
      "2         1992-12-19     Andrew Leão  Botafogo\n",
      "   Data de Nascimento          Pessoa    Bairro\n",
      "12         1987-01-14  Suellen Otavio  Botafogo\n",
      "16         1988-03-06      Luan Farah  Botafogo\n",
      "21         1992-12-19     Andrew Leão  Botafogo\n"
     ]
    },
    {
     "name": "stderr",
     "output_type": "stream",
     "text": [
      "C:\\Users\\lucas\\AppData\\Local\\Temp\\ipykernel_7272\\3207663780.py:22: FutureWarning: save is not part of the public API, usage can give unexpected results and will be removed in a future version\n",
      "  writer.save()\n"
     ]
    }
   ],
   "source": [
    "import pandas as pd\n",
    "\n",
    "df = pd.read_excel(\"input/VBA - Arquivo da Aula.xlsx\")\n",
    "bairros = df[\"Bairro\"].unique()\n",
    "writer = pd.ExcelWriter(\"output/VBA - Arquivo da Aula.xlsx\", engine=\"openpyxl\")\n",
    "columns = df.columns.to_list()\n",
    "\n",
    "for i in bairros:\n",
    "\n",
    "    list_columns = []\n",
    "\n",
    "    new_df = df.loc[df[\"Bairro\"] == i]\n",
    "    dict_newdf = new_df.to_dict(\"records\")\n",
    "    print(dict_newdf)\n",
    "\n",
    "    df2 = pd.DataFrame(dict_newdf)\n",
    "    print(df2)\n",
    "    dict_newdf.clear()\n",
    "    df2.to_excel(writer, sheet_name=i, index=None)\n",
    "    print(new_df)\n",
    "\n",
    "writer.save()\n",
    "\n",
    "\n",
    "    \n",
    "\n"
   ]
  },
  {
   "cell_type": "code",
   "execution_count": null,
   "metadata": {},
   "outputs": [],
   "source": []
  }
 ],
 "metadata": {
  "kernelspec": {
   "display_name": "Python 3",
   "language": "python",
   "name": "python3"
  },
  "language_info": {
   "codemirror_mode": {
    "name": "ipython",
    "version": 3
   },
   "file_extension": ".py",
   "mimetype": "text/x-python",
   "name": "python",
   "nbconvert_exporter": "python",
   "pygments_lexer": "ipython3",
   "version": "3.11.3"
  },
  "orig_nbformat": 4
 },
 "nbformat": 4,
 "nbformat_minor": 2
}
