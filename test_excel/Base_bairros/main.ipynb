{
 "cells": [
  {
   "attachments": {},
   "cell_type": "markdown",
   "metadata": {},
   "source": [
    "# Automação base Excel\n",
    "# O script cria automaticamente uma aba para cada bairro \n",
    "## Pasta input > arquivo de entrada\n",
    "## Pasta output > arquivo de saída gerado pelo script\n"
   ]
  },
  {
   "cell_type": "code",
   "execution_count": null,
   "metadata": {},
   "outputs": [],
   "source": [
    "import pandas as pd\n",
    "\n",
    "df = pd.read_excel(\"input/VBA - Arquivo da Aula.xlsx\")\n",
    "bairros = df[\"Bairro\"].unique()\n",
    "writer = pd.ExcelWriter(\"output/VBA - Arquivo da Aula.xlsx\", engine=\"openpyxl\")\n",
    "columns = df.columns.to_list()\n",
    "\n",
    "for i in bairros:\n",
    "\n",
    "    list_columns = []\n",
    "\n",
    "    new_df = df.loc[df[\"Bairro\"] == i]\n",
    "    dict_newdf = new_df.to_dict(\"records\")\n",
    "    print(dict_newdf)\n",
    "\n",
    "    df2 = pd.DataFrame(dict_newdf)\n",
    "    print(df2)\n",
    "    dict_newdf.clear()\n",
    "    df2.to_excel(writer, sheet_name=i, index=None)\n",
    "    print(new_df)\n",
    "\n",
    "writer.save()\n",
    "\n",
    "\n",
    "    \n",
    "\n"
   ]
  }
 ],
 "metadata": {
  "kernelspec": {
   "display_name": "Python 3",
   "language": "python",
   "name": "python3"
  },
  "language_info": {
   "codemirror_mode": {
    "name": "ipython",
    "version": 3
   },
   "file_extension": ".py",
   "mimetype": "text/x-python",
   "name": "python",
   "nbconvert_exporter": "python",
   "pygments_lexer": "ipython3",
   "version": "3.11.3"
  },
  "orig_nbformat": 4
 },
 "nbformat": 4,
 "nbformat_minor": 2
}
