{
 "cells": [
  {
   "cell_type": "markdown",
   "metadata": {},
   "source": [
    "# Não confie na ordem dos dicionários, use as chaves\n",
    "\n",
    "### Python Versões Antigas x Versões Novas\n",
    "\n",
    "- Dicionários eram \"sem ordem\". Atualmente tem ordem, mas o certo é usar as chaves\n",
    "- 2 formas de pegar um valor:\n",
    "    - dicionario[chave]\n",
    "    - .get(chave)"
   ]
  },
  {
   "cell_type": "code",
   "execution_count": 2,
   "metadata": {},
   "outputs": [],
   "source": [
    "mais_vendidos = {'tecnologia': 'iphone', 'refrigeracao': 'ar consul 12000 btu', 'livros': 'o alquimista', 'eletrodoméstico': 'geladeira', 'lazer': 'prancha surf'}\n",
    "\n",
    "vendas_tecnologia = {'iphone': 15000, 'samsung galaxy': 12000, 'tv samsung': 10000, 'ps5': 14300, 'tablet': 1720, 'ipad': 1000, 'tv philco': 2500, 'notebook hp': 1000, 'notebook dell': 17000, 'notebook asus': 2450}"
   ]
  },
  {
   "cell_type": "markdown",
   "metadata": {},
   "source": [
    "- Qual foi o item mais vendido nas categorias 'livros' e 'lazer'?\n",
    "- Quanto foi vendido de 'notebook asus' e de 'ipad'?"
   ]
  },
  {
   "cell_type": "code",
   "execution_count": 6,
   "metadata": {},
   "outputs": [
    {
     "name": "stdout",
     "output_type": "stream",
     "text": [
      "O livro mais vendido foi o alquimista\n",
      "O produto mais vendido em lazer foi prancha surf\n",
      "2450\n"
     ]
    }
   ],
   "source": [
    "# respondendo com a chave, igual a aula anterior\n",
    "print(\"O livro mais vendido foi {}\".format(mais_vendidos[\"livros\"]))\n",
    "print(\"O produto mais vendido em lazer foi {}\".format(mais_vendidos[\"lazer\"]))\n",
    "# respondendo com o método get\n",
    "print(vendas_tecnologia.get(\"notebook asus\"))\n"
   ]
  },
  {
   "cell_type": "markdown",
   "metadata": {},
   "source": [
    "### Verificar se item está no dicionário:\n",
    "\n",
    "- if\n",
    "- .get(chave) = None\n",
    "\n",
    "Se tentarmos procurar as vendas de \"copo\" na lista de vendas tecnologia, o que acontece?"
   ]
  },
  {
   "cell_type": "code",
   "execution_count": 7,
   "metadata": {},
   "outputs": [
    {
     "name": "stdout",
     "output_type": "stream",
     "text": [
      "Copo não esta na lista de tecnologia\n"
     ]
    }
   ],
   "source": [
    "if vendas_tecnologia.get(\"copo\") == None:\n",
    "    print(\"Copo não esta na lista de tecnologia\")\n",
    "else:\n",
    "    print(vendas_tecnologia.get(\"copo\"))"
   ]
  },
  {
   "cell_type": "code",
   "execution_count": null,
   "metadata": {},
   "outputs": [],
   "source": []
  }
 ],
 "metadata": {
  "kernelspec": {
   "display_name": "Python 3",
   "language": "python",
   "name": "python3"
  },
  "language_info": {
   "codemirror_mode": {
    "name": "ipython",
    "version": 3
   },
   "file_extension": ".py",
   "mimetype": "text/x-python",
   "name": "python",
   "nbconvert_exporter": "python",
   "pygments_lexer": "ipython3",
   "version": "3.11.1"
  },
  "vscode": {
   "interpreter": {
    "hash": "48c4422cbeabee5ddda685a70b33bef52fbe0d33bcd35df3f9247bd78183b7fb"
   }
  }
 },
 "nbformat": 4,
 "nbformat_minor": 4
}
