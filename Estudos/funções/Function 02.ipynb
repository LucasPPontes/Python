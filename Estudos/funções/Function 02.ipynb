{
 "cells": [
  {
   "cell_type": "markdown",
   "metadata": {},
   "source": [
    "# Retornar um valor na Function Python\n",
    "\n",
    "### Estrutura Básica"
   ]
  },
  {
   "cell_type": "raw",
   "metadata": {},
   "source": [
    "def nome_funcao():\n",
    "    return valor_final"
   ]
  },
  {
   "cell_type": "markdown",
   "metadata": {},
   "source": [
    "- Exemplo: vamos criar uma função de cadastro de um Produto. Essa função deve garantir que o produto cadastrado está em letra minúscula."
   ]
  },
  {
   "cell_type": "code",
   "execution_count": 2,
   "metadata": {},
   "outputs": [],
   "source": [
    "def cadastrar_produto():\n",
    "    produto = input('Digite o nome do produto que deseja cadastrar')\n",
    "    produto = produto.casefold()\n",
    "    produto = produto.strip()\n",
    "    return produto\n"
   ]
  },
  {
   "cell_type": "code",
   "execution_count": 3,
   "metadata": {},
   "outputs": [
    {
     "data": {
      "text/plain": [
       "'feijao'"
      ]
     },
     "execution_count": 3,
     "metadata": {},
     "output_type": "execute_result"
    }
   ],
   "source": [
    "cadastrar_produto()"
   ]
  },
  {
   "cell_type": "code",
   "execution_count": null,
   "metadata": {},
   "outputs": [],
   "source": []
  }
 ],
 "metadata": {
  "kernelspec": {
   "display_name": "Python 3",
   "language": "python",
   "name": "python3"
  },
  "language_info": {
   "codemirror_mode": {
    "name": "ipython",
    "version": 3
   },
   "file_extension": ".py",
   "mimetype": "text/x-python",
   "name": "python",
   "nbconvert_exporter": "python",
   "pygments_lexer": "ipython3",
   "version": "3.11.1"
  },
  "vscode": {
   "interpreter": {
    "hash": "48c4422cbeabee5ddda685a70b33bef52fbe0d33bcd35df3f9247bd78183b7fb"
   }
  }
 },
 "nbformat": 4,
 "nbformat_minor": 4
}
