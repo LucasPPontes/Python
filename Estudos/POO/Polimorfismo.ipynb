{
 "cells": [
  {
   "attachments": {},
   "cell_type": "markdown",
   "metadata": {},
   "source": [
    "Polimorfismo é um dos conceitos fundamentais da Programação Orientada a Objetos que permite que objetos de diferentes classes possam ser tratados de forma uniforme. Isso significa que um objeto pode ser tratado como se fosse um objeto de uma superclasse, mesmo que ele seja de uma subclasse.\n",
    "Mais especificamente, o polimorfismo se refere à habilidade de um objeto responder de diferentes formas a mesma mensagem. Isso é possível porque as subclasses podem implementar métodos com o mesmo nome que os métodos da superclasse, mas com comportamentos diferentes.\n",
    "Com o polimorfismo, os mesmo atributos e métodos podem ser utilizados em objetos distintos, porém, com implementações lógicas diferentes."
   ]
  },
  {
   "cell_type": "code",
   "execution_count": 19,
   "metadata": {},
   "outputs": [],
   "source": [
    "# Superclasse\n",
    "class Veiculo():\n",
    "\n",
    "    def __init__(self, marca, modelo):\n",
    "        self.marca = marca\n",
    "        self.modelo = modelo \n",
    "\n",
    "    def acelerar(self):\n",
    "        pass\n",
    "\n",
    "    def frear(self):\n",
    "        pass\n",
    "\n",
    "    "
   ]
  },
  {
   "cell_type": "code",
   "execution_count": 28,
   "metadata": {},
   "outputs": [],
   "source": [
    "# Subclasse\n",
    "class Carro(Veiculo):\n",
    "    \n",
    "    def acelerar(self):\n",
    "        print(\"Acelerando carro\")\n",
    "    \n",
    "    def frear(self):\n",
    "        print(\"O carro está freando\")\n",
    "\n"
   ]
  },
  {
   "cell_type": "code",
   "execution_count": 30,
   "metadata": {},
   "outputs": [],
   "source": [
    "class Moto(Veiculo):\n",
    "\n",
    "    def acelerar(self):\n",
    "        print(\"Acelerando moto\")\n",
    "\n",
    "    def frear(self):\n",
    "        print(\"Freando moto\")\n"
   ]
  },
  {
   "cell_type": "code",
   "execution_count": null,
   "metadata": {},
   "outputs": [],
   "source": [
    "class Aviao(Veiculo):\n",
    "\n",
    "    def acelerar(self):\n",
    "        print(\"Acelerando avião\")\n",
    "\n",
    "    def frear(self):\n",
    "        print(\"Freando avião\")\n",
    "\n",
    "    def decolar(self):\n",
    "        print(\"Decolando avião\")\n",
    "\n",
    "        "
   ]
  }
 ],
 "metadata": {
  "kernelspec": {
   "display_name": "Python 3",
   "language": "python",
   "name": "python3"
  },
  "language_info": {
   "codemirror_mode": {
    "name": "ipython",
    "version": 3
   },
   "file_extension": ".py",
   "mimetype": "text/x-python",
   "name": "python",
   "nbconvert_exporter": "python",
   "pygments_lexer": "ipython3",
   "version": "3.11.1"
  },
  "orig_nbformat": 4
 },
 "nbformat": 4,
 "nbformat_minor": 2
}
